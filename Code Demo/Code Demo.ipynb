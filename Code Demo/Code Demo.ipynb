{
 "cells": [
  {
   "cell_type": "markdown",
   "id": "226e2f38",
   "metadata": {},
   "source": [
    "### Cauchy-Schwarz Divergence Transfer Entropy Code Demo"
   ]
  },
  {
   "cell_type": "markdown",
   "id": "68dbd1c5",
   "metadata": {},
   "source": [
    "This code demo accompanies our paper *Cauchy-Schwarz Divergence Transfer Entropy. It provides a complete framework for calculating Cauchy-Schwarz Divergence Transfer Entropy (CS-TE) and includes a simple illustrative example."
   ]
  },
  {
   "cell_type": "markdown",
   "id": "efe97db4",
   "metadata": {},
   "source": [
    "#### 1. CS-TE Core Function Implementation"
   ]
  },
  {
   "cell_type": "code",
   "execution_count": 1,
   "id": "9143720e",
   "metadata": {},
   "outputs": [],
   "source": [
    "import numpy as np\n",
    "\n",
    "# RBF kernel\n",
    "def rbf_dot(x1, x2, sigma):\n",
    "    G = np.sum(x1 ** 2, axis=1)\n",
    "    H = np.sum(x2 ** 2, axis=1)\n",
    "    Q = np.outer(G, np.ones(len(H))) + np.outer(np.ones(len(G)), H) - 2 * np.dot(x1, x2.T)\n",
    "    return np.exp(-Q / (2 * sigma ** 2))\n",
    "\n",
    "# Compute median\n",
    "def comp_med(x):\n",
    "    d, n = x.shape\n",
    "    G = np.sum(x ** 2, axis=0)\n",
    "    T = np.tile(G, (n, 1))\n",
    "    dist2 = T - 2 * np.dot(x.T, x) + T.T\n",
    "    dist2 = dist2 - np.tril(dist2)\n",
    "    R = dist2.flatten()\n",
    "    R = R[R > 0]\n",
    "    \n",
    "    if len(R) == 0:\n",
    "        print(\"Warning: R is empty, returning NaN\")\n",
    "        return np.nan\n",
    "\n",
    "    return np.sqrt(0.5 * np.median(R))\n",
    "\n",
    "# Core Fuction\n",
    "def conditional_CS_CMI(x, y, z, sigma1, sigma2, sigma3):\n",
    "    K = rbf_dot(x, x, sigma1)\n",
    "    L = rbf_dot(y, y, sigma2)\n",
    "    M = rbf_dot(z, z, sigma3)\n",
    "\n",
    "    dim = K.shape[0]\n",
    "\n",
    "    H1 = K * M\n",
    "    H2 = L * M\n",
    "    H3 = K * H2\n",
    "\n",
    "    self_term1 = 0\n",
    "    for t in range(dim):\n",
    "        self_term1 += np.sum(H3[t, :]) * (np.sum(M[t, :])) ** 2\n",
    "\n",
    "    self_term2 = 0\n",
    "    for t in range(dim):\n",
    "        self_term2 += (np.sum(H1[t, :]) ** 2) * (np.sum(H2[t, :]) ** 2) / np.sum(H3[t, :])\n",
    "\n",
    "    cross_term1 = 0\n",
    "    for t in range(dim):\n",
    "        cross_term1 += np.sum(M[t, :]) * np.sum(H1[t, :]) * np.sum(H2[t, :])\n",
    "\n",
    "    if cross_term1 <= 0 or self_term1 <= 0 or self_term2 <= 0:\n",
    "        print(\"Warning: Invalid values encountered in log calculation, returning NaN\")\n",
    "        return np.nan\n",
    "\n",
    "    conditional_divergence = -2 * np.log(cross_term1) + np.log(self_term1) + np.log(self_term2)\n",
    "    return conditional_divergence\n",
    "\n",
    "# Computation function\n",
    "def compute_causality(X, Y):\n",
    "    N = len(X)\n",
    "    order = 2\n",
    "\n",
    "    # Causal from X to Y\n",
    "    y = Y[order:N]\n",
    "    x1 = np.zeros((N - order, order))\n",
    "    x2 = np.zeros((N - order, order))\n",
    "\n",
    "    for i in range(N - order):\n",
    "        x1[i, :] = Y[i:i + order]\n",
    "        x2[i, :] = X[i:i + order]\n",
    "\n",
    "    y = y[:, np.newaxis]\n",
    "    med1 = comp_med(np.hstack([x1, x2, y]))\n",
    "\n",
    "    if not np.isnan(med1):\n",
    "        eta = 0.1\n",
    "        sigma1 = med1 * eta\n",
    "        sigma2 = med1 * eta\n",
    "        sigma3 = med1 * eta\n",
    "\n",
    "        Causal_X_to_Y = conditional_CS_CMI(x2, y, x1, sigma1, sigma2, sigma3)\n",
    "        print(f\"Causal_X_to_Y: {Causal_X_to_Y}\")\n",
    "    else:\n",
    "        print(\"Invalid median for X->Y, skipping.\")\n",
    "\n",
    "    # Causal from Y to X\n",
    "    y = X[order:N]\n",
    "    x1 = np.zeros((N - order, order))\n",
    "    x2 = np.zeros((N - order, order))\n",
    "\n",
    "    for i in range(N - order):\n",
    "        x1[i, :] = X[i:i + order]\n",
    "        x2[i, :] = Y[i:i + order]\n",
    "\n",
    "    y = y[:, np.newaxis]\n",
    "    med1 = comp_med(np.hstack([x1, x2, y]))\n",
    "\n",
    "    if not np.isnan(med1):\n",
    "        sigma1 = med1 * eta\n",
    "        sigma2 = med1 * eta\n",
    "        sigma3 = med1 * eta\n",
    "\n",
    "        Causal_Y_to_X = conditional_CS_CMI(x2, y, x1, sigma1, sigma2, sigma3)\n",
    "        print(f\"Causal_Y_to_X: {Causal_Y_to_X}\")\n",
    "    else:\n",
    "        print(\"Invalid median for Y->X, skipping.\")"
   ]
  },
  {
   "cell_type": "markdown",
   "id": "8d8e49ea",
   "metadata": {},
   "source": [
    "#### 2. Calculation Example"
   ]
  },
  {
   "cell_type": "code",
   "execution_count": 2,
   "id": "f6ffab18",
   "metadata": {},
   "outputs": [],
   "source": [
    "# Generate random sequences X and Y of length 256\n",
    "def generate_data():\n",
    "    X = np.random.randn(256)\n",
    "    Y = np.random.randn(256)\n",
    "    return X, Y\n",
    "\n",
    "# Data generation\n",
    "X, Y = generate_data()"
   ]
  },
  {
   "cell_type": "code",
   "execution_count": 3,
   "id": "755d837c",
   "metadata": {},
   "outputs": [
    {
     "name": "stdout",
     "output_type": "stream",
     "text": [
      "Causal_X_to_Y: 0.00012487361297885968\n",
      "Causal_Y_to_X: 3.532956547047661e-05\n"
     ]
    }
   ],
   "source": [
    "# Compute\n",
    "compute_causality(X, Y)"
   ]
  },
  {
   "cell_type": "markdown",
   "id": "b1518517",
   "metadata": {},
   "source": [
    "#### 3. Usage Guide"
   ]
  },
  {
   "cell_type": "markdown",
   "id": "26b21766",
   "metadata": {},
   "source": [
    "**Note:**\n",
    "\n",
    "1. This code demo serves as an example only. The data used for computation is randomly generated and does not adhere to VAR (Vector Autoregressive) or other established models.\n",
    "2. The kernel size plays a crucial role in the overall computation. Adjustments may be needed based on the characteristics of the data. You can adjust the `eta` parameter in the `compute_causality` function to modify this aspect of the calculation.\n"
   ]
  }
 ],
 "metadata": {
  "kernelspec": {
   "display_name": "Python 3 (ipykernel)",
   "language": "python",
   "name": "python3"
  },
  "language_info": {
   "codemirror_mode": {
    "name": "ipython",
    "version": 3
   },
   "file_extension": ".py",
   "mimetype": "text/x-python",
   "name": "python",
   "nbconvert_exporter": "python",
   "pygments_lexer": "ipython3",
   "version": "3.9.12"
  }
 },
 "nbformat": 4,
 "nbformat_minor": 5
}
